{
 "cells": [
  {
   "cell_type": "code",
   "execution_count": 5,
   "metadata": {},
   "outputs": [],
   "source": [
    "from yaml import load, Loader\n",
    "import os"
   ]
  },
  {
   "cell_type": "code",
   "execution_count": 6,
   "metadata": {},
   "outputs": [],
   "source": [
    "filename = \"../data/options.yaml\""
   ]
  },
  {
   "cell_type": "code",
   "execution_count": 7,
   "metadata": {},
   "outputs": [
    {
     "data": {
      "text/plain": [
       "True"
      ]
     },
     "execution_count": 7,
     "metadata": {},
     "output_type": "execute_result"
    }
   ],
   "source": [
    "os.path.exists(filename)"
   ]
  },
  {
   "cell_type": "code",
   "execution_count": 8,
   "metadata": {},
   "outputs": [],
   "source": [
    "if os.path.exists(filename):\n",
    "    with open(filename) as f:\n",
    "        data = load(f, Loader)"
   ]
  },
  {
   "cell_type": "code",
   "execution_count": 9,
   "metadata": {},
   "outputs": [
    {
     "data": {
      "text/plain": [
       "{'options': {'clients': [{'name': 'usb_to_modbus',\n",
       "    'nickname': 'Client1',\n",
       "    'connection_specs': 'SunGrow Inverter',\n",
       "    'port': 'dev/tty1'}],\n",
       "  'servers': [{'name': 'SunGrow Inverter 1',\n",
       "    'nickname': 'SG1',\n",
       "    'serialnum': '12345678',\n",
       "    'server_type': 'SunGrow Inverter',\n",
       "    'connected_client': 'Client1'}],\n",
       "  'connection_specs': {'SunGrow Inverter': {'connection_method': 'RTU',\n",
       "    'baudrate': 9600,\n",
       "    'data_bits': 8,\n",
       "    'parity_bits': False,\n",
       "    'stop_bits': 1}}}}"
      ]
     },
     "execution_count": 9,
     "metadata": {},
     "output_type": "execute_result"
    }
   ],
   "source": [
    "data"
   ]
  },
  {
   "cell_type": "code",
   "execution_count": null,
   "metadata": {},
   "outputs": [],
   "source": []
  },
  {
   "cell_type": "code",
   "execution_count": null,
   "metadata": {},
   "outputs": [],
   "source": [
    "\n",
    "    packestruct.unpack('<I', packed)"
   ]
  },
  {
   "cell_type": "code",
   "execution_count": 2,
   "metadata": {},
   "outputs": [],
   "source": [
    "import struct"
   ]
  },
  {
   "cell_type": "code",
   "execution_count": 53,
   "metadata": {},
   "outputs": [],
   "source": [
    "mock_u16_register = [258, ]                    # 0x0102 -> 258\n",
    "mock_u32_register = [772, 258]        # 0x01020304 -> 16909060"
   ]
  },
  {
   "cell_type": "code",
   "execution_count": 54,
   "metadata": {},
   "outputs": [
    {
     "data": {
      "text/plain": [
       "b'\\x01\\x02\\x03\\x04'"
      ]
     },
     "execution_count": 54,
     "metadata": {},
     "output_type": "execute_result"
    }
   ],
   "source": [
    "\"\"\" Unsigned 32-bit little-endian word\"\"\"\n",
    "content = mock_u32_register\n",
    "packed = struct.pack('>HH', content[1], content[0])\n",
    "packed"
   ]
  },
  {
   "cell_type": "code",
   "execution_count": 55,
   "metadata": {},
   "outputs": [
    {
     "data": {
      "text/plain": [
       "(16909060,)"
      ]
     },
     "execution_count": 55,
     "metadata": {},
     "output_type": "execute_result"
    }
   ],
   "source": [
    "struct.unpack('>I', packed)"
   ]
  },
  {
   "cell_type": "code",
   "execution_count": 13,
   "metadata": {},
   "outputs": [
    {
     "data": {
      "text/plain": [
       "32767"
      ]
     },
     "execution_count": 13,
     "metadata": {},
     "output_type": "execute_result"
    }
   ],
   "source": [
    "2**15-1"
   ]
  },
  {
   "cell_type": "code",
   "execution_count": 50,
   "metadata": {},
   "outputs": [
    {
     "data": {
      "text/plain": [
       "258"
      ]
     },
     "execution_count": 50,
     "metadata": {},
     "output_type": "execute_result"
    }
   ],
   "source": [
    "0x0102"
   ]
  },
  {
   "cell_type": "code",
   "execution_count": 52,
   "metadata": {},
   "outputs": [
    {
     "data": {
      "text/plain": [
       "772"
      ]
     },
     "execution_count": 52,
     "metadata": {},
     "output_type": "execute_result"
    }
   ],
   "source": [
    "0x0304"
   ]
  },
  {
   "cell_type": "code",
   "execution_count": 57,
   "metadata": {},
   "outputs": [
    {
     "data": {
      "text/plain": [
       "16706"
      ]
     },
     "execution_count": 57,
     "metadata": {},
     "output_type": "execute_result"
    }
   ],
   "source": [
    "0x4142\n"
   ]
  },
  {
   "cell_type": "code",
   "execution_count": 58,
   "metadata": {},
   "outputs": [
    {
     "data": {
      "text/plain": [
       "17220"
      ]
     },
     "execution_count": 58,
     "metadata": {},
     "output_type": "execute_result"
    }
   ],
   "source": [
    "0x4344\n"
   ]
  },
  {
   "cell_type": "code",
   "execution_count": 59,
   "metadata": {},
   "outputs": [
    {
     "data": {
      "text/plain": [
       "17734"
      ]
     },
     "execution_count": 59,
     "metadata": {},
     "output_type": "execute_result"
    }
   ],
   "source": [
    "0x4546\n"
   ]
  },
  {
   "cell_type": "code",
   "execution_count": 60,
   "metadata": {},
   "outputs": [
    {
     "data": {
      "text/plain": [
       "18248"
      ]
     },
     "execution_count": 60,
     "metadata": {},
     "output_type": "execute_result"
    }
   ],
   "source": [
    "0x4748\n"
   ]
  },
  {
   "cell_type": "code",
   "execution_count": 61,
   "metadata": {},
   "outputs": [
    {
     "data": {
      "text/plain": [
       "18762"
      ]
     },
     "execution_count": 61,
     "metadata": {},
     "output_type": "execute_result"
    }
   ],
   "source": [
    "0x494a"
   ]
  },
  {
   "cell_type": "code",
   "execution_count": null,
   "metadata": {},
   "outputs": [],
   "source": []
  },
  {
   "cell_type": "code",
   "execution_count": 1,
   "metadata": {},
   "outputs": [],
   "source": [
    "registers = [ {\"name\": \"Serial Number\", \"addr\": 4990, \"count\": 10, \"dtype\": \"UTF-8\", \"multiplier\": 1, \"unit\": \"\"},\n",
    "        {\"name\": \"Device Type Code\", \"addr\": 5000, \"count\": 1, \"dtype\": \"U16\", \"multiplier\": 1, \"unit\": \"\"},\n",
    "        {\"name\": \"Nominal Active Power\", \"addr\": 5001, \"count\": 1, \"dtype\": \"U16\", \"multiplier\": 0.1, \"unit\": \"kW\"},\n",
    "        {\"name\": \"Output Type\", \"addr\": 5002, \"count\": 1, \"dtype\": \"U16\", \"multiplier\": 1, \"unit\": \"\"},\n",
    "        {\"name\": \"Daily Power Yields\", \"addr\": 5003, \"count\": 1, \"dtype\": \"U16\", \"multiplier\": 0.1, \"unit\": \"kWh\"},\n",
    "        {\"name\": \"Total Power Yields\", \"addr\": 5004, \"count\": 2, \"dtype\": \"U32\", \"multiplier\": 1, \"unit\": \"kWh\"},\n",
    "        {\"name\": \"Total Running Time\", \"addr\": 5006, \"count\": 2, \"dtype\": \"U32\", \"multiplier\": 1, \"unit\": \"h\"},\n",
    "        {\"name\": \"Internal Temperature\", \"addr\": 5008, \"count\": 1, \"dtype\": \"S16\", \"multiplier\": 0.1, \"unit\": \"°C\"},\n",
    "        {\"name\": \"Total Apparent Power\", \"addr\": 5009, \"count\": 2, \"dtype\": \"U32\", \"multiplier\": 1, \"unit\": \"VA\"},                  # only valid for specific models\n",
    "        {\"name\": \"MPPT 1 Voltage\", \"addr\": 5011, \"count\": 1, \"dtype\": \"U16\", \"multiplier\": 0.1, \"unit\": \"V\"},\n",
    "        {\"name\": \"MPPT 1 Current\", \"addr\": 5012, \"count\": 1, \"dtype\": \"U16\", \"multiplier\": 0.1, \"unit\": \"A\"},\n",
    "        {\"name\": \"MPPT 2 Voltage\", \"addr\": 5013, \"count\": 1, \"dtype\": \"U16\", \"multiplier\": 0.1, \"unit\": \"V\"},\n",
    "        {\"name\": \"MPPT 2 Current\", \"addr\": 5014, \"count\": 1, \"dtype\": \"U16\", \"multiplier\": 0.1, \"unit\": \"A\"},\n",
    "        {\"name\": \"MPPT 3 Voltage\", \"addr\": 5015, \"count\": 1, \"dtype\": \"U16\", \"multiplier\": 0.1, \"unit\": \"V\"},\n",
    "        {\"name\": \"MPPT 3 Current\", \"addr\": 5016, \"count\": 1, \"dtype\": \"U16\", \"multiplier\": 0.1, \"unit\": \"A\"},\n",
    "        {\"name\": \"Total DC Power\", \"addr\": 5017, \"count\": 2, \"dtype\": \"U32\", \"multiplier\": 1, \"unit\": \"W\"},\n",
    "        {\"name\": \"A-B Line Voltage/Phase A Voltage\", \"addr\": 5019, \"count\": 1, \"dtype\": \"U16\", \"multiplier\": 0.1, \"unit\": \"V\"},     # 5019-5021 two output types check TODO\n",
    "        {\"name\": \"B-C Line Voltage/Phase B Voltage\", \"addr\": 5020, \"count\": 1, \"dtype\": \"U16\", \"multiplier\": 0.1, \"unit\": \"V\"},\n",
    "        {\"name\": \"C-A Line Voltage/Phase C Voltage\", \"addr\": 5019, \"count\": 1, \"dtype\": \"U16\", \"multiplier\": 0.1, \"unit\": \"V\"},\n",
    "        {\"name\": \"Phase A Current\", \"addr\": 5022, \"count\": 1, \"dtype\": \"U16\", \"multiplier\": 0.1, \"unit\": \"A\"},\n",
    "        {\"name\": \"Phase B Current\", \"addr\": 5023, \"count\": 1, \"dtype\": \"U16\", \"multiplier\": 0.1, \"unit\": \"A\"},\n",
    "        {\"name\": \"Phase C Current\", \"addr\": 5024, \"count\": 1, \"dtype\": \"U16\", \"multiplier\": 0.1, \"unit\": \"A\"},\n",
    "        {\"name\": \"Total Active Power\", \"addr\": 5031, \"count\": 2, \"dtype\": \"U32\", \"multiplier\": 1, \"unit\": \"W\"},\n",
    "        {\"name\": \"Total Reactive Power\", \"addr\": 5033, \"count\": 2, \"dtype\": \"U32\", \"multiplier\": 1, \"unit\": \"Var\"},\n",
    "        {\"name\": \"Power Factor\", \"addr\": 5035, \"count\": 1, \"dtype\": \"S16\", \"multiplier\": 0.001, \"unit\": \"\"},                        # >0: leading, <0 lagging\n",
    "        {\"name\": \"Grid Frequency\", \"addr\": 5036, \"count\": 1, \"dtype\": \"U16\", \"multiplier\": 0.1, \"unit\": \"Hz\"},\n",
    "        {\"name\": \"Work State\", \"addr\": 5038, \"count\": 1, \"dtype\": \"U16\", \"multiplier\": 1, \"unit\": \"\"},                              \n",
    "        {\"name\": \"Fault/Alarm Code 1\", \"addr\": 5045, \"count\": 1, \"dtype\": \"U16\", \"multiplier\": 1, \"unit\": \"\"},                      # can also get fault time registers 5039-5045\n",
    "        {\"name\": \"Nominal Reactive Power\", \"addr\": 5049, \"count\": 1, \"dtype\": \"U16\", \"multiplier\": 0.1, \"unit\": \"kVar\"},\n",
    "        {\"name\": \"Nominal Reactive Power\", \"addr\": 5049, \"count\": 1, \"dtype\": \"U16\", \"multiplier\": 0.1, \"unit\": \"kVar\"},\n",
    "        {\"name\": \"Array Insulation Resistance\", \"addr\": 5071, \"count\": 1, \"dtype\": \"U16\", \"multiplier\": 1, \"unit\": \"kΩ\"},\n",
    "        {\"name\": \"Active Power Regulation Setpoint\", \"addr\": 5077, \"count\": 2, \"dtype\": \"U32\", \"multiplier\": 1, \"unit\": \"W\"},\n",
    "        {\"name\": \"Reactive Power Regulation Setpoint\", \"addr\": 5079, \"count\": 2, \"dtype\": \"S32\", \"multiplier\": 1, \"unit\": \"Var\"},\n",
    "        {\"name\": \"Work State (Extended)\", \"addr\": 5081, \"count\": 2, \"dtype\": \"U32\", \"multiplier\": 1, \"unit\": \"\"},\n",
    "        {\"name\": \"Meter Power\", \"addr\": 5083, \"count\": 2, \"dtype\": \"S32\", \"multiplier\": 1, \"unit\": \"W\"},\n",
    "        {\"name\": \"Meter A Phase Power\", \"addr\": 5085, \"count\": 2, \"dtype\": \"S32\", \"multiplier\": 1, \"unit\": \"W\"},\n",
    "        {\"name\": \"Meter B Phase Power\", \"addr\": 5087, \"count\": 2, \"dtype\": \"S32\", \"multiplier\": 1, \"unit\": \"W\"},\n",
    "        {\"name\": \"Meter C Phase Power\", \"addr\": 5089, \"count\": 2, \"dtype\": \"S32\", \"multiplier\": 1, \"unit\": \"W\"},\n",
    "        {\"name\": \"Load Power\", \"addr\": 5091, \"count\": 2, \"dtype\": \"S32\", \"multiplier\": 1, \"unit\": \"W\"},\n",
    "        {\"name\": \"Daily Export Energy\", \"addr\": 5093, \"count\": 2, \"dtype\": \"U32\", \"multiplier\": 0.1, \"unit\": \"kWh\"},\n",
    "        {\"name\": \"Total Export Energy\", \"addr\": 5095, \"count\": 2, \"dtype\": \"U32\", \"multiplier\": 0.1, \"unit\": \"kWh\"},\n",
    "        {\"name\": \"Daily Import Energy\", \"addr\": 5097, \"count\": 2, \"dtype\": \"U32\", \"multiplier\": 0.1, \"unit\": \"kWh\"},\n",
    "        {\"name\": \"Total Import Energy\", \"addr\": 5099, \"count\": 2, \"dtype\": \"U32\", \"multiplier\": 0.1, \"unit\": \"kWh\"},\n",
    "        {\"name\": \"Daily Direct Energy Consumption\", \"addr\": 5101, \"count\": 2, \"dtype\": \"U32\", \"multiplier\": 0.1, \"unit\": \"kWh\"},\n",
    "        {\"name\": \"Total Direct Energy Consumption\", \"addr\": 5103, \"count\": 2, \"dtype\": \"U32\", \"multiplier\": 0.1, \"unit\": \"kWh\"},\n",
    "        {\"name\": \"Daily Running Time\", \"addr\": 5113, \"count\": 1, \"dtype\": \"U16\", \"multiplier\": 1, \"unit\": \"min\"},\n",
    "        {\"name\": \"Present Country\", \"addr\": 5114, \"count\": 1, \"dtype\": \"U16\", \"multiplier\": 1, \"unit\": \"\"},\n",
    "        {\"name\": \"MPPT 4 Voltage\", \"addr\": 5115, \"count\": 1, \"dtype\": \"U16\", \"multiplier\": 0.1, \"unit\": \"V\"},\n",
    "        {\"name\": \"MPPT 4 Current\", \"addr\": 5116, \"count\": 1, \"dtype\": \"U16\", \"multiplier\": 0.1, \"unit\": \"A\"},\n",
    "        {\"name\": \"MPPT 5 Voltage\", \"addr\": 5117, \"count\": 1, \"dtype\": \"U16\", \"multiplier\": 0.1, \"unit\": \"V\"},\n",
    "        {\"name\": \"MPPT 5 Current\", \"addr\": 5118, \"count\": 1, \"dtype\": \"U16\", \"multiplier\": 0.1, \"unit\": \"A\"},\n",
    "        {\"name\": \"MPPT 6 Voltage\", \"addr\": 5119, \"count\": 1, \"dtype\": \"U16\", \"multiplier\": 0.1, \"unit\": \"V\"},\n",
    "        {\"name\": \"MPPT 6 Current\", \"addr\": 5120, \"count\": 1, \"dtype\": \"U16\", \"multiplier\": 0.1, \"unit\": \"A\"},\n",
    "        {\"name\": \"MPPT 7 Voltage\", \"addr\": 5121, \"count\": 1, \"dtype\": \"U16\", \"multiplier\": 0.1, \"unit\": \"V\"},\n",
    "        {\"name\": \"MPPT 7 Current\", \"addr\": 5122, \"count\": 1, \"dtype\": \"U16\", \"multiplier\": 0.1, \"unit\": \"A\"},\n",
    "        {\"name\": \"MPPT 8 Voltage\", \"addr\": 5123, \"count\": 1, \"dtype\": \"U16\", \"multiplier\": 0.1, \"unit\": \"V\"},\n",
    "        {\"name\": \"MPPT 8 Current\", \"addr\": 5124, \"count\": 1, \"dtype\": \"U16\", \"multiplier\": 0.1, \"unit\": \"A\"},\n",
    "        {\"name\": \"Monthly Power Yields\", \"addr\": 5128, \"count\": 2, \"dtype\": \"U32\", \"multiplier\": 0.1, \"unit\": \"kWh\"},\n",
    "        {\"name\": \"MPPT 9 Voltage\", \"addr\": 5130, \"count\": 1, \"dtype\": \"U16\", \"multiplier\": 0.1, \"unit\": \"V\"},\n",
    "        {\"name\": \"MPPT 9 Current\", \"addr\": 5131, \"count\": 1, \"dtype\": \"U16\", \"multiplier\": 0.1, \"unit\": \"A\"},\n",
    "        {\"name\": \"MPPT 10 Voltage\", \"addr\": 5132, \"count\": 1, \"dtype\": \"U16\", \"multiplier\": 0.1, \"unit\": \"V\"},\n",
    "        {\"name\": \"MPPT 10 Current\", \"addr\": 5133, \"count\": 1, \"dtype\": \"U16\", \"multiplier\": 0.1, \"unit\": \"A\"},\n",
    "        {\"name\": \"MPPT 11 Voltage\", \"addr\": 5134, \"count\": 1, \"dtype\": \"U16\", \"multiplier\": 0.1, \"unit\": \"V\"},\n",
    "        {\"name\": \"MPPT 11 Current\", \"addr\": 5135, \"count\": 1, \"dtype\": \"U16\", \"multiplier\": 0.1, \"unit\": \"A\"},\n",
    "        {\"name\": \"MPPT 12 Voltage\", \"addr\": 5136, \"count\": 1, \"dtype\": \"U16\", \"multiplier\": 0.1, \"unit\": \"V\"},\n",
    "        {\"name\": \"MPPT 12 Current\", \"addr\": 5137, \"count\": 1, \"dtype\": \"U16\", \"multiplier\": 0.1, \"unit\": \"A\"},\n",
    "        {\"name\": \"Total Power Yields (Increased Accuracy)\", \"addr\": 5144, \"count\": 2, \"dtype\": \"U32\", \"multiplier\": 0.1, \"unit\": \"kWh\"},\n",
    "        {\"name\": \"Negative Voltage to the Ground\", \"addr\": 5146, \"count\": 1, \"dtype\": \"S16\", \"multiplier\": 0.1, \"unit\": \"V\"},\n",
    "        {\"name\": \"Bus Voltage\", \"addr\": 5147, \"count\": 1, \"dtype\": \"U16\", \"multiplier\": 0.1, \"unit\": \"V\"},\n",
    "        {\"name\": \"Grid Frequency (Increased Accuracy)\", \"addr\": 5148, \"count\": 1, \"dtype\": \"U16\", \"multiplier\": 0.01, \"unit\": \"Hz\"},\n",
    "        {\"name\": \"PID Work State\", \"addr\": 5150, \"count\": 1, \"dtype\": \"U16\", \"multiplier\": 1, \"unit\": \"\"},\n",
    "        {\"name\": \"PID Alarm Code\", \"addr\": 5151, \"count\": 1, \"dtype\": \"U16\", \"multiplier\": 1, \"unit\": \"\"}\n",
    "        # TODO Combiner Board information p12 - need to check availability before reading?\n",
    "    ]"
   ]
  },
  {
   "cell_type": "code",
   "execution_count": 2,
   "metadata": {},
   "outputs": [],
   "source": [
    "new_register = dict([(r.pop('name'), r)  for r in registers])"
   ]
  },
  {
   "cell_type": "code",
   "execution_count": 3,
   "metadata": {},
   "outputs": [
    {
     "data": {
      "text/plain": [
       "{'Serial Number': {'addr': 4990,\n",
       "  'count': 10,\n",
       "  'dtype': 'UTF-8',\n",
       "  'multiplier': 1,\n",
       "  'unit': ''},\n",
       " 'Device Type Code': {'addr': 5000,\n",
       "  'count': 1,\n",
       "  'dtype': 'U16',\n",
       "  'multiplier': 1,\n",
       "  'unit': ''},\n",
       " 'Nominal Active Power': {'addr': 5001,\n",
       "  'count': 1,\n",
       "  'dtype': 'U16',\n",
       "  'multiplier': 0.1,\n",
       "  'unit': 'kW'},\n",
       " 'Output Type': {'addr': 5002,\n",
       "  'count': 1,\n",
       "  'dtype': 'U16',\n",
       "  'multiplier': 1,\n",
       "  'unit': ''},\n",
       " 'Daily Power Yields': {'addr': 5003,\n",
       "  'count': 1,\n",
       "  'dtype': 'U16',\n",
       "  'multiplier': 0.1,\n",
       "  'unit': 'kWh'},\n",
       " 'Total Power Yields': {'addr': 5004,\n",
       "  'count': 2,\n",
       "  'dtype': 'U32',\n",
       "  'multiplier': 1,\n",
       "  'unit': 'kWh'},\n",
       " 'Total Running Time': {'addr': 5006,\n",
       "  'count': 2,\n",
       "  'dtype': 'U32',\n",
       "  'multiplier': 1,\n",
       "  'unit': 'h'},\n",
       " 'Internal Temperature': {'addr': 5008,\n",
       "  'count': 1,\n",
       "  'dtype': 'S16',\n",
       "  'multiplier': 0.1,\n",
       "  'unit': '°C'},\n",
       " 'Total Apparent Power': {'addr': 5009,\n",
       "  'count': 2,\n",
       "  'dtype': 'U32',\n",
       "  'multiplier': 1,\n",
       "  'unit': 'VA'},\n",
       " 'MPPT 1 Voltage': {'addr': 5011,\n",
       "  'count': 1,\n",
       "  'dtype': 'U16',\n",
       "  'multiplier': 0.1,\n",
       "  'unit': 'V'},\n",
       " 'MPPT 1 Current': {'addr': 5012,\n",
       "  'count': 1,\n",
       "  'dtype': 'U16',\n",
       "  'multiplier': 0.1,\n",
       "  'unit': 'A'},\n",
       " 'MPPT 2 Voltage': {'addr': 5013,\n",
       "  'count': 1,\n",
       "  'dtype': 'U16',\n",
       "  'multiplier': 0.1,\n",
       "  'unit': 'V'},\n",
       " 'MPPT 2 Current': {'addr': 5014,\n",
       "  'count': 1,\n",
       "  'dtype': 'U16',\n",
       "  'multiplier': 0.1,\n",
       "  'unit': 'A'},\n",
       " 'MPPT 3 Voltage': {'addr': 5015,\n",
       "  'count': 1,\n",
       "  'dtype': 'U16',\n",
       "  'multiplier': 0.1,\n",
       "  'unit': 'V'},\n",
       " 'MPPT 3 Current': {'addr': 5016,\n",
       "  'count': 1,\n",
       "  'dtype': 'U16',\n",
       "  'multiplier': 0.1,\n",
       "  'unit': 'A'},\n",
       " 'Total DC Power': {'addr': 5017,\n",
       "  'count': 2,\n",
       "  'dtype': 'U32',\n",
       "  'multiplier': 1,\n",
       "  'unit': 'W'},\n",
       " 'A-B Line Voltage/Phase A Voltage': {'addr': 5019,\n",
       "  'count': 1,\n",
       "  'dtype': 'U16',\n",
       "  'multiplier': 0.1,\n",
       "  'unit': 'V'},\n",
       " 'B-C Line Voltage/Phase B Voltage': {'addr': 5020,\n",
       "  'count': 1,\n",
       "  'dtype': 'U16',\n",
       "  'multiplier': 0.1,\n",
       "  'unit': 'V'},\n",
       " 'C-A Line Voltage/Phase C Voltage': {'addr': 5019,\n",
       "  'count': 1,\n",
       "  'dtype': 'U16',\n",
       "  'multiplier': 0.1,\n",
       "  'unit': 'V'},\n",
       " 'Phase A Current': {'addr': 5022,\n",
       "  'count': 1,\n",
       "  'dtype': 'U16',\n",
       "  'multiplier': 0.1,\n",
       "  'unit': 'A'},\n",
       " 'Phase B Current': {'addr': 5023,\n",
       "  'count': 1,\n",
       "  'dtype': 'U16',\n",
       "  'multiplier': 0.1,\n",
       "  'unit': 'A'},\n",
       " 'Phase C Current': {'addr': 5024,\n",
       "  'count': 1,\n",
       "  'dtype': 'U16',\n",
       "  'multiplier': 0.1,\n",
       "  'unit': 'A'},\n",
       " 'Total Active Power': {'addr': 5031,\n",
       "  'count': 2,\n",
       "  'dtype': 'U32',\n",
       "  'multiplier': 1,\n",
       "  'unit': 'W'},\n",
       " 'Total Reactive Power': {'addr': 5033,\n",
       "  'count': 2,\n",
       "  'dtype': 'U32',\n",
       "  'multiplier': 1,\n",
       "  'unit': 'Var'},\n",
       " 'Power Factor': {'addr': 5035,\n",
       "  'count': 1,\n",
       "  'dtype': 'S16',\n",
       "  'multiplier': 0.001,\n",
       "  'unit': ''},\n",
       " 'Grid Frequency': {'addr': 5036,\n",
       "  'count': 1,\n",
       "  'dtype': 'U16',\n",
       "  'multiplier': 0.1,\n",
       "  'unit': 'Hz'},\n",
       " 'Work State': {'addr': 5038,\n",
       "  'count': 1,\n",
       "  'dtype': 'U16',\n",
       "  'multiplier': 1,\n",
       "  'unit': ''},\n",
       " 'Fault/Alarm Code 1': {'addr': 5045,\n",
       "  'count': 1,\n",
       "  'dtype': 'U16',\n",
       "  'multiplier': 1,\n",
       "  'unit': ''},\n",
       " 'Nominal Reactive Power': {'addr': 5049,\n",
       "  'count': 1,\n",
       "  'dtype': 'U16',\n",
       "  'multiplier': 0.1,\n",
       "  'unit': 'kVar'},\n",
       " 'Array Insulation Resistance': {'addr': 5071,\n",
       "  'count': 1,\n",
       "  'dtype': 'U16',\n",
       "  'multiplier': 1,\n",
       "  'unit': 'kΩ'},\n",
       " 'Active Power Regulation Setpoint': {'addr': 5077,\n",
       "  'count': 2,\n",
       "  'dtype': 'U32',\n",
       "  'multiplier': 1,\n",
       "  'unit': 'W'},\n",
       " 'Reactive Power Regulation Setpoint': {'addr': 5079,\n",
       "  'count': 2,\n",
       "  'dtype': 'S32',\n",
       "  'multiplier': 1,\n",
       "  'unit': 'Var'},\n",
       " 'Work State (Extended)': {'addr': 5081,\n",
       "  'count': 2,\n",
       "  'dtype': 'U32',\n",
       "  'multiplier': 1,\n",
       "  'unit': ''},\n",
       " 'Meter Power': {'addr': 5083,\n",
       "  'count': 2,\n",
       "  'dtype': 'S32',\n",
       "  'multiplier': 1,\n",
       "  'unit': 'W'},\n",
       " 'Meter A Phase Power': {'addr': 5085,\n",
       "  'count': 2,\n",
       "  'dtype': 'S32',\n",
       "  'multiplier': 1,\n",
       "  'unit': 'W'},\n",
       " 'Meter B Phase Power': {'addr': 5087,\n",
       "  'count': 2,\n",
       "  'dtype': 'S32',\n",
       "  'multiplier': 1,\n",
       "  'unit': 'W'},\n",
       " 'Meter C Phase Power': {'addr': 5089,\n",
       "  'count': 2,\n",
       "  'dtype': 'S32',\n",
       "  'multiplier': 1,\n",
       "  'unit': 'W'},\n",
       " 'Load Power': {'addr': 5091,\n",
       "  'count': 2,\n",
       "  'dtype': 'S32',\n",
       "  'multiplier': 1,\n",
       "  'unit': 'W'},\n",
       " 'Daily Export Energy': {'addr': 5093,\n",
       "  'count': 2,\n",
       "  'dtype': 'U32',\n",
       "  'multiplier': 0.1,\n",
       "  'unit': 'kWh'},\n",
       " 'Total Export Energy': {'addr': 5095,\n",
       "  'count': 2,\n",
       "  'dtype': 'U32',\n",
       "  'multiplier': 0.1,\n",
       "  'unit': 'kWh'},\n",
       " 'Daily Import Energy': {'addr': 5097,\n",
       "  'count': 2,\n",
       "  'dtype': 'U32',\n",
       "  'multiplier': 0.1,\n",
       "  'unit': 'kWh'},\n",
       " 'Total Import Energy': {'addr': 5099,\n",
       "  'count': 2,\n",
       "  'dtype': 'U32',\n",
       "  'multiplier': 0.1,\n",
       "  'unit': 'kWh'},\n",
       " 'Daily Direct Energy Consumption': {'addr': 5101,\n",
       "  'count': 2,\n",
       "  'dtype': 'U32',\n",
       "  'multiplier': 0.1,\n",
       "  'unit': 'kWh'},\n",
       " 'Total Direct Energy Consumption': {'addr': 5103,\n",
       "  'count': 2,\n",
       "  'dtype': 'U32',\n",
       "  'multiplier': 0.1,\n",
       "  'unit': 'kWh'},\n",
       " 'Daily Running Time': {'addr': 5113,\n",
       "  'count': 1,\n",
       "  'dtype': 'U16',\n",
       "  'multiplier': 1,\n",
       "  'unit': 'min'},\n",
       " 'Present Country': {'addr': 5114,\n",
       "  'count': 1,\n",
       "  'dtype': 'U16',\n",
       "  'multiplier': 1,\n",
       "  'unit': ''},\n",
       " 'MPPT 4 Voltage': {'addr': 5115,\n",
       "  'count': 1,\n",
       "  'dtype': 'U16',\n",
       "  'multiplier': 0.1,\n",
       "  'unit': 'V'},\n",
       " 'MPPT 4 Current': {'addr': 5116,\n",
       "  'count': 1,\n",
       "  'dtype': 'U16',\n",
       "  'multiplier': 0.1,\n",
       "  'unit': 'A'},\n",
       " 'MPPT 5 Voltage': {'addr': 5117,\n",
       "  'count': 1,\n",
       "  'dtype': 'U16',\n",
       "  'multiplier': 0.1,\n",
       "  'unit': 'V'},\n",
       " 'MPPT 5 Current': {'addr': 5118,\n",
       "  'count': 1,\n",
       "  'dtype': 'U16',\n",
       "  'multiplier': 0.1,\n",
       "  'unit': 'A'},\n",
       " 'MPPT 6 Voltage': {'addr': 5119,\n",
       "  'count': 1,\n",
       "  'dtype': 'U16',\n",
       "  'multiplier': 0.1,\n",
       "  'unit': 'V'},\n",
       " 'MPPT 6 Current': {'addr': 5120,\n",
       "  'count': 1,\n",
       "  'dtype': 'U16',\n",
       "  'multiplier': 0.1,\n",
       "  'unit': 'A'},\n",
       " 'MPPT 7 Voltage': {'addr': 5121,\n",
       "  'count': 1,\n",
       "  'dtype': 'U16',\n",
       "  'multiplier': 0.1,\n",
       "  'unit': 'V'},\n",
       " 'MPPT 7 Current': {'addr': 5122,\n",
       "  'count': 1,\n",
       "  'dtype': 'U16',\n",
       "  'multiplier': 0.1,\n",
       "  'unit': 'A'},\n",
       " 'MPPT 8 Voltage': {'addr': 5123,\n",
       "  'count': 1,\n",
       "  'dtype': 'U16',\n",
       "  'multiplier': 0.1,\n",
       "  'unit': 'V'},\n",
       " 'MPPT 8 Current': {'addr': 5124,\n",
       "  'count': 1,\n",
       "  'dtype': 'U16',\n",
       "  'multiplier': 0.1,\n",
       "  'unit': 'A'},\n",
       " 'Monthly Power Yields': {'addr': 5128,\n",
       "  'count': 2,\n",
       "  'dtype': 'U32',\n",
       "  'multiplier': 0.1,\n",
       "  'unit': 'kWh'},\n",
       " 'MPPT 9 Voltage': {'addr': 5130,\n",
       "  'count': 1,\n",
       "  'dtype': 'U16',\n",
       "  'multiplier': 0.1,\n",
       "  'unit': 'V'},\n",
       " 'MPPT 9 Current': {'addr': 5131,\n",
       "  'count': 1,\n",
       "  'dtype': 'U16',\n",
       "  'multiplier': 0.1,\n",
       "  'unit': 'A'},\n",
       " 'MPPT 10 Voltage': {'addr': 5132,\n",
       "  'count': 1,\n",
       "  'dtype': 'U16',\n",
       "  'multiplier': 0.1,\n",
       "  'unit': 'V'},\n",
       " 'MPPT 10 Current': {'addr': 5133,\n",
       "  'count': 1,\n",
       "  'dtype': 'U16',\n",
       "  'multiplier': 0.1,\n",
       "  'unit': 'A'},\n",
       " 'MPPT 11 Voltage': {'addr': 5134,\n",
       "  'count': 1,\n",
       "  'dtype': 'U16',\n",
       "  'multiplier': 0.1,\n",
       "  'unit': 'V'},\n",
       " 'MPPT 11 Current': {'addr': 5135,\n",
       "  'count': 1,\n",
       "  'dtype': 'U16',\n",
       "  'multiplier': 0.1,\n",
       "  'unit': 'A'},\n",
       " 'MPPT 12 Voltage': {'addr': 5136,\n",
       "  'count': 1,\n",
       "  'dtype': 'U16',\n",
       "  'multiplier': 0.1,\n",
       "  'unit': 'V'},\n",
       " 'MPPT 12 Current': {'addr': 5137,\n",
       "  'count': 1,\n",
       "  'dtype': 'U16',\n",
       "  'multiplier': 0.1,\n",
       "  'unit': 'A'},\n",
       " 'Total Power Yields (Increased Accuracy)': {'addr': 5144,\n",
       "  'count': 2,\n",
       "  'dtype': 'U32',\n",
       "  'multiplier': 0.1,\n",
       "  'unit': 'kWh'},\n",
       " 'Negative Voltage to the Ground': {'addr': 5146,\n",
       "  'count': 1,\n",
       "  'dtype': 'S16',\n",
       "  'multiplier': 0.1,\n",
       "  'unit': 'V'},\n",
       " 'Bus Voltage': {'addr': 5147,\n",
       "  'count': 1,\n",
       "  'dtype': 'U16',\n",
       "  'multiplier': 0.1,\n",
       "  'unit': 'V'},\n",
       " 'Grid Frequency (Increased Accuracy)': {'addr': 5148,\n",
       "  'count': 1,\n",
       "  'dtype': 'U16',\n",
       "  'multiplier': 0.01,\n",
       "  'unit': 'Hz'},\n",
       " 'PID Work State': {'addr': 5150,\n",
       "  'count': 1,\n",
       "  'dtype': 'U16',\n",
       "  'multiplier': 1,\n",
       "  'unit': ''},\n",
       " 'PID Alarm Code': {'addr': 5151,\n",
       "  'count': 1,\n",
       "  'dtype': 'U16',\n",
       "  'multiplier': 1,\n",
       "  'unit': ''}}"
      ]
     },
     "execution_count": 3,
     "metadata": {},
     "output_type": "execute_result"
    }
   ],
   "source": [
    "new_register"
   ]
  },
  {
   "cell_type": "code",
   "execution_count": 11,
   "metadata": {},
   "outputs": [],
   "source": [
    "def pretty_print_dict(d):\n",
    "    for key, value in d.items():\n",
    "        print(f\"'{key}': {value},\")\n",
    "\n"
   ]
  },
  {
   "cell_type": "code",
   "execution_count": 12,
   "metadata": {},
   "outputs": [
    {
     "name": "stdout",
     "output_type": "stream",
     "text": [
      "'Serial Number': {'addr': 4990, 'count': 10, 'dtype': 'UTF-8', 'multiplier': 1, 'unit': ''},\n",
      "'Device Type Code': {'addr': 5000, 'count': 1, 'dtype': 'U16', 'multiplier': 1, 'unit': ''},\n",
      "'Nominal Active Power': {'addr': 5001, 'count': 1, 'dtype': 'U16', 'multiplier': 0.1, 'unit': 'kW'},\n",
      "'Output Type': {'addr': 5002, 'count': 1, 'dtype': 'U16', 'multiplier': 1, 'unit': ''},\n",
      "'Daily Power Yields': {'addr': 5003, 'count': 1, 'dtype': 'U16', 'multiplier': 0.1, 'unit': 'kWh'},\n",
      "'Total Power Yields': {'addr': 5004, 'count': 2, 'dtype': 'U32', 'multiplier': 1, 'unit': 'kWh'},\n",
      "'Total Running Time': {'addr': 5006, 'count': 2, 'dtype': 'U32', 'multiplier': 1, 'unit': 'h'},\n",
      "'Internal Temperature': {'addr': 5008, 'count': 1, 'dtype': 'S16', 'multiplier': 0.1, 'unit': '°C'},\n",
      "'Total Apparent Power': {'addr': 5009, 'count': 2, 'dtype': 'U32', 'multiplier': 1, 'unit': 'VA'},\n",
      "'MPPT 1 Voltage': {'addr': 5011, 'count': 1, 'dtype': 'U16', 'multiplier': 0.1, 'unit': 'V'},\n",
      "'MPPT 1 Current': {'addr': 5012, 'count': 1, 'dtype': 'U16', 'multiplier': 0.1, 'unit': 'A'},\n",
      "'MPPT 2 Voltage': {'addr': 5013, 'count': 1, 'dtype': 'U16', 'multiplier': 0.1, 'unit': 'V'},\n",
      "'MPPT 2 Current': {'addr': 5014, 'count': 1, 'dtype': 'U16', 'multiplier': 0.1, 'unit': 'A'},\n",
      "'MPPT 3 Voltage': {'addr': 5015, 'count': 1, 'dtype': 'U16', 'multiplier': 0.1, 'unit': 'V'},\n",
      "'MPPT 3 Current': {'addr': 5016, 'count': 1, 'dtype': 'U16', 'multiplier': 0.1, 'unit': 'A'},\n",
      "'Total DC Power': {'addr': 5017, 'count': 2, 'dtype': 'U32', 'multiplier': 1, 'unit': 'W'},\n",
      "'A-B Line Voltage/Phase A Voltage': {'addr': 5019, 'count': 1, 'dtype': 'U16', 'multiplier': 0.1, 'unit': 'V'},\n",
      "'B-C Line Voltage/Phase B Voltage': {'addr': 5020, 'count': 1, 'dtype': 'U16', 'multiplier': 0.1, 'unit': 'V'},\n",
      "'C-A Line Voltage/Phase C Voltage': {'addr': 5019, 'count': 1, 'dtype': 'U16', 'multiplier': 0.1, 'unit': 'V'},\n",
      "'Phase A Current': {'addr': 5022, 'count': 1, 'dtype': 'U16', 'multiplier': 0.1, 'unit': 'A'},\n",
      "'Phase B Current': {'addr': 5023, 'count': 1, 'dtype': 'U16', 'multiplier': 0.1, 'unit': 'A'},\n",
      "'Phase C Current': {'addr': 5024, 'count': 1, 'dtype': 'U16', 'multiplier': 0.1, 'unit': 'A'},\n",
      "'Total Active Power': {'addr': 5031, 'count': 2, 'dtype': 'U32', 'multiplier': 1, 'unit': 'W'},\n",
      "'Total Reactive Power': {'addr': 5033, 'count': 2, 'dtype': 'U32', 'multiplier': 1, 'unit': 'Var'},\n",
      "'Power Factor': {'addr': 5035, 'count': 1, 'dtype': 'S16', 'multiplier': 0.001, 'unit': ''},\n",
      "'Grid Frequency': {'addr': 5036, 'count': 1, 'dtype': 'U16', 'multiplier': 0.1, 'unit': 'Hz'},\n",
      "'Work State': {'addr': 5038, 'count': 1, 'dtype': 'U16', 'multiplier': 1, 'unit': ''},\n",
      "'Fault/Alarm Code 1': {'addr': 5045, 'count': 1, 'dtype': 'U16', 'multiplier': 1, 'unit': ''},\n",
      "'Nominal Reactive Power': {'addr': 5049, 'count': 1, 'dtype': 'U16', 'multiplier': 0.1, 'unit': 'kVar'},\n",
      "'Array Insulation Resistance': {'addr': 5071, 'count': 1, 'dtype': 'U16', 'multiplier': 1, 'unit': 'kΩ'},\n",
      "'Active Power Regulation Setpoint': {'addr': 5077, 'count': 2, 'dtype': 'U32', 'multiplier': 1, 'unit': 'W'},\n",
      "'Reactive Power Regulation Setpoint': {'addr': 5079, 'count': 2, 'dtype': 'S32', 'multiplier': 1, 'unit': 'Var'},\n",
      "'Work State (Extended)': {'addr': 5081, 'count': 2, 'dtype': 'U32', 'multiplier': 1, 'unit': ''},\n",
      "'Meter Power': {'addr': 5083, 'count': 2, 'dtype': 'S32', 'multiplier': 1, 'unit': 'W'},\n",
      "'Meter A Phase Power': {'addr': 5085, 'count': 2, 'dtype': 'S32', 'multiplier': 1, 'unit': 'W'},\n",
      "'Meter B Phase Power': {'addr': 5087, 'count': 2, 'dtype': 'S32', 'multiplier': 1, 'unit': 'W'},\n",
      "'Meter C Phase Power': {'addr': 5089, 'count': 2, 'dtype': 'S32', 'multiplier': 1, 'unit': 'W'},\n",
      "'Load Power': {'addr': 5091, 'count': 2, 'dtype': 'S32', 'multiplier': 1, 'unit': 'W'},\n",
      "'Daily Export Energy': {'addr': 5093, 'count': 2, 'dtype': 'U32', 'multiplier': 0.1, 'unit': 'kWh'},\n",
      "'Total Export Energy': {'addr': 5095, 'count': 2, 'dtype': 'U32', 'multiplier': 0.1, 'unit': 'kWh'},\n",
      "'Daily Import Energy': {'addr': 5097, 'count': 2, 'dtype': 'U32', 'multiplier': 0.1, 'unit': 'kWh'},\n",
      "'Total Import Energy': {'addr': 5099, 'count': 2, 'dtype': 'U32', 'multiplier': 0.1, 'unit': 'kWh'},\n",
      "'Daily Direct Energy Consumption': {'addr': 5101, 'count': 2, 'dtype': 'U32', 'multiplier': 0.1, 'unit': 'kWh'},\n",
      "'Total Direct Energy Consumption': {'addr': 5103, 'count': 2, 'dtype': 'U32', 'multiplier': 0.1, 'unit': 'kWh'},\n",
      "'Daily Running Time': {'addr': 5113, 'count': 1, 'dtype': 'U16', 'multiplier': 1, 'unit': 'min'},\n",
      "'Present Country': {'addr': 5114, 'count': 1, 'dtype': 'U16', 'multiplier': 1, 'unit': ''},\n",
      "'MPPT 4 Voltage': {'addr': 5115, 'count': 1, 'dtype': 'U16', 'multiplier': 0.1, 'unit': 'V'},\n",
      "'MPPT 4 Current': {'addr': 5116, 'count': 1, 'dtype': 'U16', 'multiplier': 0.1, 'unit': 'A'},\n",
      "'MPPT 5 Voltage': {'addr': 5117, 'count': 1, 'dtype': 'U16', 'multiplier': 0.1, 'unit': 'V'},\n",
      "'MPPT 5 Current': {'addr': 5118, 'count': 1, 'dtype': 'U16', 'multiplier': 0.1, 'unit': 'A'},\n",
      "'MPPT 6 Voltage': {'addr': 5119, 'count': 1, 'dtype': 'U16', 'multiplier': 0.1, 'unit': 'V'},\n",
      "'MPPT 6 Current': {'addr': 5120, 'count': 1, 'dtype': 'U16', 'multiplier': 0.1, 'unit': 'A'},\n",
      "'MPPT 7 Voltage': {'addr': 5121, 'count': 1, 'dtype': 'U16', 'multiplier': 0.1, 'unit': 'V'},\n",
      "'MPPT 7 Current': {'addr': 5122, 'count': 1, 'dtype': 'U16', 'multiplier': 0.1, 'unit': 'A'},\n",
      "'MPPT 8 Voltage': {'addr': 5123, 'count': 1, 'dtype': 'U16', 'multiplier': 0.1, 'unit': 'V'},\n",
      "'MPPT 8 Current': {'addr': 5124, 'count': 1, 'dtype': 'U16', 'multiplier': 0.1, 'unit': 'A'},\n",
      "'Monthly Power Yields': {'addr': 5128, 'count': 2, 'dtype': 'U32', 'multiplier': 0.1, 'unit': 'kWh'},\n",
      "'MPPT 9 Voltage': {'addr': 5130, 'count': 1, 'dtype': 'U16', 'multiplier': 0.1, 'unit': 'V'},\n",
      "'MPPT 9 Current': {'addr': 5131, 'count': 1, 'dtype': 'U16', 'multiplier': 0.1, 'unit': 'A'},\n",
      "'MPPT 10 Voltage': {'addr': 5132, 'count': 1, 'dtype': 'U16', 'multiplier': 0.1, 'unit': 'V'},\n",
      "'MPPT 10 Current': {'addr': 5133, 'count': 1, 'dtype': 'U16', 'multiplier': 0.1, 'unit': 'A'},\n",
      "'MPPT 11 Voltage': {'addr': 5134, 'count': 1, 'dtype': 'U16', 'multiplier': 0.1, 'unit': 'V'},\n",
      "'MPPT 11 Current': {'addr': 5135, 'count': 1, 'dtype': 'U16', 'multiplier': 0.1, 'unit': 'A'},\n",
      "'MPPT 12 Voltage': {'addr': 5136, 'count': 1, 'dtype': 'U16', 'multiplier': 0.1, 'unit': 'V'},\n",
      "'MPPT 12 Current': {'addr': 5137, 'count': 1, 'dtype': 'U16', 'multiplier': 0.1, 'unit': 'A'},\n",
      "'Total Power Yields (Increased Accuracy)': {'addr': 5144, 'count': 2, 'dtype': 'U32', 'multiplier': 0.1, 'unit': 'kWh'},\n",
      "'Negative Voltage to the Ground': {'addr': 5146, 'count': 1, 'dtype': 'S16', 'multiplier': 0.1, 'unit': 'V'},\n",
      "'Bus Voltage': {'addr': 5147, 'count': 1, 'dtype': 'U16', 'multiplier': 0.1, 'unit': 'V'},\n",
      "'Grid Frequency (Increased Accuracy)': {'addr': 5148, 'count': 1, 'dtype': 'U16', 'multiplier': 0.01, 'unit': 'Hz'},\n",
      "'PID Work State': {'addr': 5150, 'count': 1, 'dtype': 'U16', 'multiplier': 1, 'unit': ''},\n",
      "'PID Alarm Code': {'addr': 5151, 'count': 1, 'dtype': 'U16', 'multiplier': 1, 'unit': ''},\n"
     ]
    }
   ],
   "source": [
    "\n",
    "\n",
    "pretty_print_dict(new_register)"
   ]
  },
  {
   "cell_type": "code",
   "execution_count": 14,
   "metadata": {},
   "outputs": [
    {
     "data": {
      "text/plain": [
       "65535"
      ]
     },
     "execution_count": 14,
     "metadata": {},
     "output_type": "execute_result"
    }
   ],
   "source": [
    "0xFFFF"
   ]
  },
  {
   "cell_type": "code",
   "execution_count": 17,
   "metadata": {},
   "outputs": [
    {
     "data": {
      "text/plain": [
       "65535"
      ]
     },
     "execution_count": 17,
     "metadata": {},
     "output_type": "execute_result"
    }
   ],
   "source": [
    "# 0xFFFF777B -> -34949\n",
    "0xFFFF"
   ]
  },
  {
   "cell_type": "code",
   "execution_count": 18,
   "metadata": {},
   "outputs": [
    {
     "data": {
      "text/plain": [
       "30587"
      ]
     },
     "execution_count": 18,
     "metadata": {},
     "output_type": "execute_result"
    }
   ],
   "source": [
    "0x777B"
   ]
  },
  {
   "cell_type": "code",
   "execution_count": 1,
   "metadata": {},
   "outputs": [],
   "source": [
    "import json\n",
    "import yaml"
   ]
  },
  {
   "cell_type": "code",
   "execution_count": 3,
   "metadata": {},
   "outputs": [],
   "source": [
    "with open('config.yaml') as file:\n",
    "    data = yaml.load(file, Loader=yaml.FullLoader)['options']"
   ]
  },
  {
   "cell_type": "code",
   "execution_count": 4,
   "metadata": {},
   "outputs": [
    {
     "data": {
      "text/plain": [
       "{'mqtt': {'host': '10.0.0.132',\n",
       "  'port': 1883,\n",
       "  'user': 'mqtt-users',\n",
       "  'password': 'mqtt-users',\n",
       "  'ha_discovery': True,\n",
       "  'ha_discovery_topic': 'homeassistant',\n",
       "  'base_topic': 'modbus'},\n",
       " 'clients': [{'name': 'usb_to_modbus',\n",
       "   'nickname': 'Client1',\n",
       "   'connection_specs': 'Sungrow_Inverter',\n",
       "   'port': '/dev/tty1'}],\n",
       " 'servers': [{'name': 'SunGrow Inverter 1',\n",
       "   'nickname': 'SG1',\n",
       "   'serialnum': '12345678',\n",
       "   'server_type': 'SunGrow Inverter',\n",
       "   'connected_client': 'Client1',\n",
       "   'device_addr': 999}],\n",
       " 'connection_specs': [{'name': 'Sungrow_Inverter',\n",
       "   'connection_method': 'RTU',\n",
       "   'baudrate': 9600,\n",
       "   'bytesize': 8,\n",
       "   'parity': False,\n",
       "   'stopbits': 1}]}"
      ]
     },
     "execution_count": 4,
     "metadata": {},
     "output_type": "execute_result"
    }
   ],
   "source": [
    "data"
   ]
  },
  {
   "cell_type": "code",
   "execution_count": 6,
   "metadata": {},
   "outputs": [],
   "source": [
    "with open(\"options.json\",'w', encoding='utf-8') as wfile:\n",
    "    json.dump(data, wfile, ensure_ascii=False, indent=4)"
   ]
  },
  {
   "cell_type": "code",
   "execution_count": 8,
   "metadata": {},
   "outputs": [],
   "source": [
    "with open(\"options.json\") as f:\n",
    "    dat = json.load(f)"
   ]
  },
  {
   "cell_type": "code",
   "execution_count": 9,
   "metadata": {},
   "outputs": [
    {
     "data": {
      "text/plain": [
       "{'mqtt': {'host': '10.0.0.132',\n",
       "  'port': 1883,\n",
       "  'user': 'mqtt-users',\n",
       "  'password': 'mqtt-users',\n",
       "  'ha_discovery': True,\n",
       "  'ha_discovery_topic': 'homeassistant',\n",
       "  'base_topic': 'modbus'},\n",
       " 'clients': [{'name': 'usb_to_modbus',\n",
       "   'nickname': 'Client1',\n",
       "   'connection_specs': 'Sungrow_Inverter',\n",
       "   'port': '/dev/tty1'}],\n",
       " 'servers': [{'name': 'SunGrow Inverter 1',\n",
       "   'nickname': 'SG1',\n",
       "   'serialnum': '12345678',\n",
       "   'server_type': 'SunGrow Inverter',\n",
       "   'connected_client': 'Client1',\n",
       "   'device_addr': 999}],\n",
       " 'connection_specs': [{'name': 'Sungrow_Inverter',\n",
       "   'connection_method': 'RTU',\n",
       "   'baudrate': 9600,\n",
       "   'bytesize': 8,\n",
       "   'parity': False,\n",
       "   'stopbits': 1}]}"
      ]
     },
     "execution_count": 9,
     "metadata": {},
     "output_type": "execute_result"
    }
   ],
   "source": [
    "dat"
   ]
  },
  {
   "cell_type": "code",
   "execution_count": 10,
   "metadata": {},
   "outputs": [
    {
     "data": {
      "text/plain": [
       "{'name': 'Sungrow_Inverter',\n",
       " 'connection_method': 'RTU',\n",
       " 'baudrate': 9600,\n",
       " 'bytesize': 8,\n",
       " 'parity': False,\n",
       " 'stopbits': 1}"
      ]
     },
     "execution_count": 10,
     "metadata": {},
     "output_type": "execute_result"
    }
   ],
   "source": [
    "dat['connection_specs'][0]"
   ]
  },
  {
   "cell_type": "code",
   "execution_count": null,
   "metadata": {},
   "outputs": [],
   "source": []
  },
  {
   "cell_type": "code",
   "execution_count": null,
   "metadata": {},
   "outputs": [],
   "source": []
  },
  {
   "cell_type": "code",
   "execution_count": 1,
   "metadata": {},
   "outputs": [],
   "source": [
    "from pymodbus.pdu import register_message as pdu_reg\n"
   ]
  },
  {
   "cell_type": "code",
   "execution_count": 3,
   "metadata": {},
   "outputs": [],
   "source": [
    "\n",
    "\n",
    "ms = pdu_reg.ReadHoldingRegistersRequest(address=0x0061, count=2, dev_id=254)"
   ]
  },
  {
   "cell_type": "code",
   "execution_count": 8,
   "metadata": {},
   "outputs": [
    {
     "data": {
      "text/plain": [
       "b'\\x00a\\x00\\x02'"
      ]
     },
     "execution_count": 8,
     "metadata": {},
     "output_type": "execute_result"
    }
   ],
   "source": [
    "ms.encode()"
   ]
  },
  {
   "cell_type": "code",
   "execution_count": 9,
   "metadata": {},
   "outputs": [
    {
     "data": {
      "text/plain": [
       "3"
      ]
     },
     "execution_count": 9,
     "metadata": {},
     "output_type": "execute_result"
    }
   ],
   "source": [
    "ms.function_code"
   ]
  },
  {
   "cell_type": "code",
   "execution_count": 11,
   "metadata": {},
   "outputs": [
    {
     "data": {
      "text/plain": [
       "[]"
      ]
     },
     "execution_count": 11,
     "metadata": {},
     "output_type": "execute_result"
    }
   ],
   "source": [
    "ms.bits"
   ]
  },
  {
   "cell_type": "code",
   "execution_count": 12,
   "metadata": {},
   "outputs": [
    {
     "data": {
      "text/plain": [
       "254"
      ]
     },
     "execution_count": 12,
     "metadata": {},
     "output_type": "execute_result"
    }
   ],
   "source": [
    "ms.dev_id"
   ]
  },
  {
   "cell_type": "code",
   "execution_count": null,
   "metadata": {},
   "outputs": [],
   "source": []
  },
  {
   "cell_type": "code",
   "execution_count": 1,
   "metadata": {},
   "outputs": [],
   "source": [
    "import enum\n",
    "\n",
    "\n",
    "class RegisterTypes(enum.Enum):\n",
    "    INPUT_REGISTER = 3\n",
    "    HOLDING_REGISTER = 4"
   ]
  },
  {
   "cell_type": "code",
   "execution_count": 2,
   "metadata": {},
   "outputs": [],
   "source": [
    "\n",
    "MPPT_parameters = [\n",
    "    {\n",
    "        'MPPT 1 Voltage': {'addr': 5011, 'count': 1, 'dtype': 'U16', 'multiplier': 0.1, 'unit': 'V', 'device_class': 'voltage', 'register_type': RegisterTypes.INPUT_REGISTER, 'state_class': 'measurement'},\n",
    "        'MPPT 1 Current': {'addr': 5012, 'count': 1, 'dtype': 'U16', 'multiplier': 0.1, 'unit': 'A', 'device_class': 'current', 'register_type': RegisterTypes.INPUT_REGISTER, 'state_class': 'measurement'},\n",
    "    },\n",
    "    {\n",
    "        'MPPT 2 Voltage': {'addr': 5013, 'count': 1, 'dtype': 'U16', 'multiplier': 0.1, 'unit': 'V', 'device_class': 'voltage', 'register_type': RegisterTypes.INPUT_REGISTER, 'state_class': 'measurement'},\n",
    "        'MPPT 2 Current': {'addr': 5014, 'count': 1, 'dtype': 'U16', 'multiplier': 0.1, 'unit': 'A', 'device_class': 'current', 'register_type': RegisterTypes.INPUT_REGISTER, 'state_class': 'measurement'},\n",
    "    },\n",
    "    {\n",
    "        'MPPT 3 Voltage': {'addr': 5015, 'count': 1, 'dtype': 'U16', 'multiplier': 0.1, 'unit': 'V', 'device_class': 'voltage', 'register_type': RegisterTypes.INPUT_REGISTER, 'state_class': 'measurement'},\n",
    "        'MPPT 3 Current': {'addr': 5016, 'count': 1, 'dtype': 'U16', 'multiplier': 0.1, 'unit': 'A', 'device_class': 'current', 'register_type': RegisterTypes.INPUT_REGISTER, 'state_class': 'measurement'},\n",
    "    }, \n",
    "    {\n",
    "        'MPPT 4 Voltage': {'addr': 5115, 'count': 1, 'dtype': 'U16', 'multiplier': 0.1, 'unit': 'V', 'device_class': 'voltage', 'register_type': RegisterTypes.INPUT_REGISTER, 'state_class': 'measurement'},\n",
    "        'MPPT 4 Current': {'addr': 5116, 'count': 1, 'dtype': 'U16', 'multiplier': 0.1, 'unit': 'A', 'device_class': 'current', 'register_type': RegisterTypes.INPUT_REGISTER, 'state_class': 'measurement'},\n",
    "    },\n",
    "    {\n",
    "        'MPPT 5 Voltage': {'addr': 5117, 'count': 1, 'dtype': 'U16', 'multiplier': 0.1, 'unit': 'V', 'device_class': 'voltage', 'register_type': RegisterTypes.INPUT_REGISTER, 'state_class': 'measurement'},\n",
    "        'MPPT 5 Current': {'addr': 5118, 'count': 1, 'dtype': 'U16', 'multiplier': 0.1, 'unit': 'A', 'device_class': 'current', 'register_type': RegisterTypes.INPUT_REGISTER, 'state_class': 'measurement'},\n",
    "    },\n",
    "    {\n",
    "        'MPPT 6 Voltage': {'addr': 5119, 'count': 1, 'dtype': 'U16', 'multiplier': 0.1, 'unit': 'V', 'device_class': 'voltage', 'register_type': RegisterTypes.INPUT_REGISTER, 'state_class': 'measurement'},\n",
    "        'MPPT 6 Current': {'addr': 5120, 'count': 1, 'dtype': 'U16', 'multiplier': 0.1, 'unit': 'A', 'device_class': 'current', 'register_type': RegisterTypes.INPUT_REGISTER, 'state_class': 'measurement'},\n",
    "    },\n",
    "    {\n",
    "        'MPPT 7 Voltage': {'addr': 5121, 'count': 1, 'dtype': 'U16', 'multiplier': 0.1, 'unit': 'V', 'device_class': 'voltage', 'register_type': RegisterTypes.INPUT_REGISTER, 'state_class': 'measurement'},\n",
    "        'MPPT 7 Current': {'addr': 5122, 'count': 1, 'dtype': 'U16', 'multiplier': 0.1, 'unit': 'A', 'device_class': 'current', 'register_type': RegisterTypes.INPUT_REGISTER, 'state_class': 'measurement'},\n",
    "    },\n",
    "    {\n",
    "        'MPPT 8 Voltage': {'addr': 5123, 'count': 1, 'dtype': 'U16', 'multiplier': 0.1, 'unit': 'V', 'device_class': 'voltage', 'register_type': RegisterTypes.INPUT_REGISTER, 'state_class': 'measurement'},\n",
    "        'MPPT 8 Current': {'addr': 5124, 'count': 1, 'dtype': 'U16', 'multiplier': 0.1, 'unit': 'A', 'device_class': 'current', 'register_type': RegisterTypes.INPUT_REGISTER, 'state_class': 'measurement'},       \n",
    "    },\n",
    "    {\n",
    "        'MPPT 9 Voltage': {'addr': 5130, 'count': 1, 'dtype': 'U16', 'multiplier': 0.1, 'unit': 'V', 'device_class': 'voltage', 'register_type': RegisterTypes.INPUT_REGISTER, 'state_class': 'measurement'},\n",
    "        'MPPT 9 Current': {'addr': 5131, 'count': 1, 'dtype': 'U16', 'multiplier': 0.1, 'unit': 'A', 'device_class': 'current', 'register_type': RegisterTypes.INPUT_REGISTER, 'state_class': 'measurement'},\n",
    "    },\n",
    "    {\n",
    "        'MPPT 10 Voltage': {'addr': 5132, 'count': 1, 'dtype': 'U16', 'multiplier': 0.1, 'unit': 'V', 'device_class': 'voltage', 'register_type': RegisterTypes.INPUT_REGISTER, 'state_class': 'measurement'},\n",
    "        'MPPT 10 Current': {'addr': 5133, 'count': 1, 'dtype': 'U16', 'multiplier': 0.1, 'unit': 'A', 'device_class': 'current', 'register_type': RegisterTypes.INPUT_REGISTER, 'state_class': 'measurement'},\n",
    "    },\n",
    "    {\n",
    "        'MPPT 11 Voltage': {'addr': 5134, 'count': 1, 'dtype': 'U16', 'multiplier': 0.1, 'unit': 'V', 'device_class': 'voltage', 'register_type': RegisterTypes.INPUT_REGISTER, 'state_class': 'measurement'},\n",
    "        'MPPT 11 Current': {'addr': 5135, 'count': 1, 'dtype': 'U16', 'multiplier': 0.1, 'unit': 'A', 'device_class': 'current', 'register_type': RegisterTypes.INPUT_REGISTER, 'state_class': 'measurement'},\n",
    "    },\n",
    "    {\n",
    "        'MPPT 12 Voltage': {'addr': 5136, 'count': 1, 'dtype': 'U16', 'multiplier': 0.1, 'unit': 'V', 'device_class': 'voltage', 'register_type': RegisterTypes.INPUT_REGISTER, 'state_class': 'measurement'},\n",
    "        'MPPT 12 Current': {'addr': 5137, 'count': 1, 'dtype': 'U16', 'multiplier': 0.1, 'unit': 'A', 'device_class': 'current', 'register_type': RegisterTypes.INPUT_REGISTER, 'state_class': 'measurement'},\n",
    "    }\n",
    "]\n"
   ]
  },
  {
   "cell_type": "code",
   "execution_count": 3,
   "metadata": {},
   "outputs": [],
   "source": [
    "registers = {\"foo\": \"bar\"}"
   ]
  },
  {
   "cell_type": "code",
   "execution_count": 10,
   "metadata": {},
   "outputs": [],
   "source": [
    "# select the available number of mppt registers for the specific model\n",
    "mppt_registers: list[dict] = MPPT_parameters[:2+1]\n",
    "for item in mppt_registers: registers.update(item)"
   ]
  },
  {
   "cell_type": "code",
   "execution_count": 12,
   "metadata": {},
   "outputs": [
    {
     "name": "stdout",
     "output_type": "stream",
     "text": [
      "{'foo': 'bar', 'MPPT 1 Voltage': {'addr': 5011, 'count': 1, 'dtype': 'U16', 'multiplier': 0.1, 'unit': 'V', 'device_class': 'voltage', 'register_type': <RegisterTypes.INPUT_REGISTER: 3>, 'state_class': 'measurement'}, 'MPPT 1 Current': {'addr': 5012, 'count': 1, 'dtype': 'U16', 'multiplier': 0.1, 'unit': 'A', 'device_class': 'current', 'register_type': <RegisterTypes.INPUT_REGISTER: 3>, 'state_class': 'measurement'}, 'MPPT 2 Voltage': {'addr': 5013, 'count': 1, 'dtype': 'U16', 'multiplier': 0.1, 'unit': 'V', 'device_class': 'voltage', 'register_type': <RegisterTypes.INPUT_REGISTER: 3>, 'state_class': 'measurement'}, 'MPPT 2 Current': {'addr': 5014, 'count': 1, 'dtype': 'U16', 'multiplier': 0.1, 'unit': 'A', 'device_class': 'current', 'register_type': <RegisterTypes.INPUT_REGISTER: 3>, 'state_class': 'measurement'}, 'MPPT 3 Voltage': {'addr': 5015, 'count': 1, 'dtype': 'U16', 'multiplier': 0.1, 'unit': 'V', 'device_class': 'voltage', 'register_type': <RegisterTypes.INPUT_REGISTER: 3>, 'state_class': 'measurement'}, 'MPPT 3 Current': {'addr': 5016, 'count': 1, 'dtype': 'U16', 'multiplier': 0.1, 'unit': 'A', 'device_class': 'current', 'register_type': <RegisterTypes.INPUT_REGISTER: 3>, 'state_class': 'measurement'}}\n"
     ]
    }
   ],
   "source": [
    "print(registers)"
   ]
  }
 ],
 "metadata": {
  "kernelspec": {
   "display_name": ".venv",
   "language": "python",
   "name": "python3"
  },
  "language_info": {
   "codemirror_mode": {
    "name": "ipython",
    "version": 3
   },
   "file_extension": ".py",
   "mimetype": "text/x-python",
   "name": "python",
   "nbconvert_exporter": "python",
   "pygments_lexer": "ipython3",
   "version": "3.10.12"
  }
 },
 "nbformat": 4,
 "nbformat_minor": 2
}
